{
 "cells": [
  {
   "cell_type": "markdown",
   "id": "a11592f9-dadf-4e7b-95d7-d5d63dbd8e52",
   "metadata": {},
   "source": [
    "<b>We will take the Housing dataset which contains information about different houses in Boston</b>\n",
    "\n",
    "We can also access this data from the scikit-learn library. There are 506 samples and 13 feature variables in this dataset. \n",
    "The objective is to predict the value of prices of the house using the given features."
   ]
  },
  {
   "cell_type": "code",
   "execution_count": null,
   "id": "07ed8a29-fa4a-4ebc-b25f-64fbad3f4846",
   "metadata": {},
   "outputs": [],
   "source": [
    "# import the required libraries.\n",
    "import numpy as np\n",
    "import matplotlib.pyplot as plt \n",
    "import pandas as pd  \n",
    "import seaborn as sns \n",
    "import warnings\n",
    "from numpy.linalg import inv\n",
    "from sklearn.datasets import load_boston\n",
    "from sklearn.model_selection import train_test_split"
   ]
  },
  {
   "cell_type": "markdown",
   "id": "56c99f2a-d6f7-490f-b2cd-91d6406b8974",
   "metadata": {},
   "source": [
    "<b>load the housing data from the scikit-learn library</b>"
   ]
  },
  {
   "cell_type": "code",
   "execution_count": null,
   "id": "05627aac-443f-445e-a9a6-6383ad9e0e9c",
   "metadata": {},
   "outputs": [],
   "source": [
    "with warnings.catch_warnings():\n",
    "    warnings.filterwarnings(\"ignore\")\n",
    "    boston_dataset = load_boston()"
   ]
  },
  {
   "cell_type": "code",
   "execution_count": null,
   "id": "3df80ea4-0c66-4e07-a0d0-d53183fa35b8",
   "metadata": {},
   "outputs": [],
   "source": [
    "# Now load the data into a pandas dataframe using pd.DataFrame\n",
    "boston = pd.DataFrame(boston_dataset.data, columns=boston_dataset.feature_names)\n",
    "\n",
    "# print the first 5 rows of the data\n",
    "boston.head()"
   ]
  },
  {
   "cell_type": "code",
   "execution_count": null,
   "id": "274c7618-6755-4c89-8c4e-60bc846d4336",
   "metadata": {},
   "outputs": [],
   "source": [
    "# the target value MEDV (house prices) is missing from the data. \n",
    "# We create a new column of target values and add it to the dataframe.\n",
    "boston['MEDV'] = boston_dataset.target"
   ]
  },
  {
   "cell_type": "markdown",
   "id": "827fadb3-444d-422e-94d7-91c69163bb60",
   "metadata": {},
   "source": [
    "<b>Create a correlation matrix that measures the linear relationships between the variables.</b>"
   ]
  },
  {
   "cell_type": "code",
   "execution_count": null,
   "id": "21aafd37-d4b5-4210-bce6-bd4d59c19758",
   "metadata": {},
   "outputs": [],
   "source": [
    "corr = boston.corr()\n",
    "corr"
   ]
  },
  {
   "cell_type": "markdown",
   "id": "fc363222-3765-400a-87c2-378b0be5a641",
   "metadata": {},
   "source": [
    "The correlation coefficient ranges from -1 to 1. If the value is close to 1,\n",
    "it means that there is a strong positive correlation between the two variables. When it is close to -1,\n",
    "the variables have a strong negative correlation.\n",
    "\n",
    "From the above corelation plot we can see that MEDV is strongly correlated to LSTAT, RM\n",
    "\n",
    "<b>Preparing the data for training the model</b>"
   ]
  },
  {
   "cell_type": "code",
   "execution_count": null,
   "id": "a5195be6-8f11-4ce9-bd95-2c0854c1bbcf",
   "metadata": {},
   "outputs": [],
   "source": [
    "#Select both these features together for training the model.\n",
    "X = boston[['LSTAT', 'RM']].values  \n",
    "\n",
    "# Target: prices of the house\n",
    "y = boston_dataset.target"
   ]
  },
  {
   "cell_type": "markdown",
   "id": "b29010d8-2762-4541-8ced-8f87f77ccde3",
   "metadata": {},
   "source": [
    "<b>Using a scatter plot to see how these features vary with MEDV.</b>\n",
    "\n",
    "Which shows that the prices increase as the value of RM increases linearly\n",
    "\n",
    "and The prices tend to decrease with an increase in LSTAT. Though it doesn’t look to be following exactly a linear line."
   ]
  },
  {
   "cell_type": "code",
   "execution_count": null,
   "id": "adf00fe0-03ad-4251-abc9-395c0c62ad09",
   "metadata": {},
   "outputs": [],
   "source": [
    "plt.figure(figsize=(15,4))\n",
    "plt.subplot(1,2,1)\n",
    "plt.xlabel('LSTAT')\n",
    "plt.ylabel('MEDV')\n",
    "plt.scatter(X[:,0], y ,marker='.')\n",
    "\n",
    "plt.subplot(1,2,2)\n",
    "plt.xlabel('RM')\n",
    "plt.ylabel('MEDV')\n",
    "plt.scatter(X[:,1], y ,marker='.')"
   ]
  },
  {
   "cell_type": "markdown",
   "id": "79d72dbd-f218-4717-a192-0d9eb66b39c3",
   "metadata": {},
   "source": [
    "<b>Splitting the data into training and testing sets</b>\n",
    "\n",
    "Train the model with 80% of the samples and test with the remaining 20%"
   ]
  },
  {
   "cell_type": "code",
   "execution_count": null,
   "id": "e291dd13-b473-45ce-aa97-a03f7a53ffa4",
   "metadata": {},
   "outputs": [],
   "source": [
    "X_train, X_test, y_train, y_test = train_test_split(X, y)\n",
    "\n",
    "print(X_train.shape)\n",
    "print(X_test.shape)\n",
    "print(y_train.shape)\n",
    "print(y_test.shape)"
   ]
  },
  {
   "cell_type": "code",
   "execution_count": null,
   "id": "671fa6fc-ebcc-4cdf-95df-e681d7e953e3",
   "metadata": {},
   "outputs": [],
   "source": [
    "class LinearListSquare:\n",
    "    def __init__(self):\n",
    "        pass\n",
    "\n",
    "    def fit(self,X,Y):\n",
    "        self.w = np.matmul(inv(np.matmul(X.T,X)), np.matmul(X.T,Y))\n",
    "        \n",
    "        N = X_train.shape[0]\n",
    "\n",
    "        #Hyper Parameters\n",
    "        learning_rate = 0.05\n",
    "        epochs = 2\n",
    "\n",
    "        # Init weights\n",
    "        W = np.random.rand(1,1)\n",
    "\n",
    "        fig,(ax1,ax2) = plt.subplots(1,2)\n",
    "\n",
    "        Errors = []\n",
    "\n",
    "        # Train\n",
    "        for epoch in range(epochs):\n",
    "            for i in range(N):\n",
    "                y_pred = np.matmul(X_train[i],W)\n",
    "                e = Y_train[i] - y_pred\n",
    "\n",
    "\n",
    "                # Update weights\n",
    "                W += e * learning_rate * X_train[i]\n",
    "\n",
    "                # Visualization\n",
    "                Y_pred = np.matmul(X_train, W)\n",
    "                ax1.clear()\n",
    "                ax1.scatter(X_train, Y_train , c='#0000ff')\n",
    "                ax1.plot(X_train , Y_pred , c='#ff0000', lw=4)\n",
    "\n",
    "                Error = np.mean(Y_train - Y_pred)\n",
    "                Errors.append(Error)\n",
    "                ax2.clear()\n",
    "                ax2.plot(Errors)\n",
    "\n",
    "                plt.pause(0.01)\n",
    "\n",
    "        plt.show()\n",
    "\n",
    "    def predict(self, w):\n",
    "        y_pred= np.matmul(X_test,self.w)\n",
    "        return y_pred                     \n",
    "    \n",
    "    def evaluate(self , X , Y , loss=\"MAE\"):\n",
    "        Y_pred = []\n",
    "        for i in range(X.shape[0]):\n",
    "            y_pred = self.predict(X[i])\n",
    "            Y_pred.append(y_pred)\n",
    "            \n",
    "        Y_pred = np.array(Y_pred)\n",
    "        Error = Y - Y_pred\n",
    "        \n",
    "        if loss == \"MAE\":\n",
    "            return np.mean(np.abs(Error))\n",
    "        elif loss == \"MSE\":\n",
    "            return np.mean(Error**2)"
   ]
  },
  {
   "cell_type": "markdown",
   "id": "432206da-6b25-4cc1-bd5b-b19362518990",
   "metadata": {},
   "source": [
    "<b>Train the model by the above class</b>"
   ]
  },
  {
   "cell_type": "code",
   "execution_count": null,
   "id": "a85acdaf-8564-4dec-a160-bd9e1c4e0df2",
   "metadata": {},
   "outputs": [],
   "source": [
    "lls = LinearListSquare()\n",
    "lls.fit(X_train,y_train)"
   ]
  },
  {
   "cell_type": "code",
   "execution_count": null,
   "id": "b6322f16-b173-4e4e-a68a-c29979c4010e",
   "metadata": {},
   "outputs": [],
   "source": [
    "lls.w"
   ]
  },
  {
   "cell_type": "code",
   "execution_count": null,
   "id": "06dd9d0c-c91c-4639-b309-095bd196dd27",
   "metadata": {},
   "outputs": [],
   "source": [
    "y_pred = lls.predict(X_test)"
   ]
  },
  {
   "cell_type": "code",
   "execution_count": null,
   "id": "76622dc1-ab58-42c2-86ea-88b712ef09fc",
   "metadata": {},
   "outputs": [],
   "source": [
    "MAE = lls.evaluate(X_test, y_test,'MAE')\n",
    "MSE = lls.evaluate(X_test, y_test,'MSE')\n",
    "\n",
    "print('MAE = ',MAE)\n",
    "print('MSE = ' ,MSE)"
   ]
  },
  {
   "cell_type": "code",
   "execution_count": null,
   "id": "4dbf4d93-a4b8-4dd6-b80c-78dbe6151134",
   "metadata": {},
   "outputs": [],
   "source": [
    "fig = plt.figure(figsize=(10,10))\n",
    "p = fig.add_subplot(1,1,1,projection='3d')\n",
    "p.scatter(X_train[:,0], X_train[:,1], y_train , c = 'hotpink')\n",
    "# p.scatter(X_train[:,0], X_train[:,1], y_pred , c = 'green')\n",
    "\n",
    "p.set_xlabel('Percentage of lower status of the population')\n",
    "p.set_ylabel('Average number of rooms')\n",
    "p.set_zlabel('House Price')\n",
    "\n",
    "plt.show()\n",
    "print(y_train.shape ,y_pred.shape)"
   ]
  },
  {
   "cell_type": "code",
   "execution_count": null,
   "id": "68aaae73-5d82-429d-b135-017c44390e7c",
   "metadata": {},
   "outputs": [],
   "source": [
    "fig = plt.figure()\n",
    "ax = fig.add_subplot(projection='3d')\n",
    "\n",
    "x = np.arange(X_train[:,0].min(), X_train[:,0].max())\n",
    "y = np.arange(X_train[:,1].min(), X_train[:,1].max())\n",
    "\n",
    "x, y = np.meshgrid(x, y)\n",
    "plane = x * lls.w[0] + y * lls.w[1]\n",
    "ax.plot_surface(x, y, plane ,alpha=0.25)\n",
    "\n",
    "ax.scatter(X_train[:,0], X_train[:,1], y_train , c = 'hotpink')\n",
    "ax.view_init(20,50)\n",
    "\n",
    "plt.show()"
   ]
  }
 ],
 "metadata": {
  "kernelspec": {
   "display_name": "Python 3 (ipykernel)",
   "language": "python",
   "name": "python3"
  },
  "language_info": {
   "codemirror_mode": {
    "name": "ipython",
    "version": 3
   },
   "file_extension": ".py",
   "mimetype": "text/x-python",
   "name": "python",
   "nbconvert_exporter": "python",
   "pygments_lexer": "ipython3",
   "version": "3.9.10"
  }
 },
 "nbformat": 4,
 "nbformat_minor": 5
}
