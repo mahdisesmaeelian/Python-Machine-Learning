{
 "cells": [
  {
   "cell_type": "markdown",
   "id": "7545450c-0c9d-4ffc-a94e-90dc511491c5",
   "metadata": {},
   "source": [
    "pip install pyzbar\n",
    "\n",
    "Wrote this project by using the below repository:\n",
    "https://github.com/cuicaihao/Webcam_QR_Detector/blob/master/Lab_02_QR_Bar_Code_Detector_Webcam.ipynb"
   ]
  },
  {
   "cell_type": "code",
   "execution_count": 1,
   "id": "a959ec75-8a9d-4ef2-be2f-e24fa5ef586a",
   "metadata": {},
   "outputs": [],
   "source": [
    "import pyzbar.pyzbar as pyzbar\n",
    "import numpy as np\n",
    "import cv2\n",
    "import time\n",
    "\n",
    "cap = cv2.VideoCapture(0)\n",
    "time.sleep(2)\n",
    "\n",
    "def decode(im) : \n",
    "    # Find barcodes and QR codes\n",
    "    decodedObjects = pyzbar.decode(im)\n",
    "    # Print results\n",
    "    for obj in decodedObjects:\n",
    "        print('Type : ', obj.type)\n",
    "        print('Data : ', obj.data,'\\n')     \n",
    "    return decodedObjects\n",
    "\n",
    "\n",
    "font = cv2.FONT_HERSHEY_SIMPLEX\n",
    "\n",
    "while(cap.isOpened()):\n",
    "    # Capture frame-by-frame\n",
    "    ret, frame = cap.read()\n",
    "    # Our operations on the frame come here\n",
    "    im = cv2.cvtColor(frame, cv2.COLOR_BGR2GRAY)\n",
    "         \n",
    "    decodedObjects = decode(im)\n",
    "\n",
    "    for decodedObject in decodedObjects: \n",
    "        points = decodedObject.polygon\n",
    "     \n",
    "        # If the points do not form a quad, find convex hull\n",
    "        if len(points) > 4 : \n",
    "          hull = cv2.convexHull(np.array([point for point in points], dtype=np.float32))\n",
    "          hull = list(map(tuple, np.squeeze(hull)))\n",
    "        else : \n",
    "          hull = points;\n",
    "         \n",
    "        # Number of points in the convex hull\n",
    "        n = len(hull)     \n",
    "        # Draw the convext hull\n",
    "        for j in range(0,n):\n",
    "          cv2.line(frame, hull[j], hull[ (j+1) % n], (255,0,0), 3)\n",
    "\n",
    "        x = decodedObject.rect.left\n",
    "        y = decodedObject.rect.top\n",
    "\n",
    "        print(x, y)\n",
    "\n",
    "        print('Type : ', decodedObject.type)\n",
    "        print('Data : ', decodedObject.data,'\\n')\n",
    "\n",
    "        barCode = str(decodedObject.data)\n",
    "        cv2.putText(frame, barCode, (x, y), font, 1, (0,255,255), 2, cv2.LINE_AA)\n",
    "               \n",
    "    cv2.imshow('frame',frame)\n",
    "    key = cv2.waitKey(1)\n",
    "    if key & 0xFF == ord('q'):\n",
    "        break\n",
    "    elif key & 0xFF == ord('s'): # wait for 's' key to save \n",
    "        cv2.imwrite('Capture.png', frame)     \n",
    "\n",
    "cap.release()\n",
    "cv2.destroyAllWindows()"
   ]
  }
 ],
 "metadata": {
  "kernelspec": {
   "display_name": "Python 3 (ipykernel)",
   "language": "python",
   "name": "python3"
  },
  "language_info": {
   "codemirror_mode": {
    "name": "ipython",
    "version": 3
   },
   "file_extension": ".py",
   "mimetype": "text/x-python",
   "name": "python",
   "nbconvert_exporter": "python",
   "pygments_lexer": "ipython3",
   "version": "3.9.0"
  }
 },
 "nbformat": 4,
 "nbformat_minor": 5
}
