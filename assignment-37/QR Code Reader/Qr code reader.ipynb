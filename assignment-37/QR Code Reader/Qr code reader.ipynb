{
 "cells": [
  {
   "cell_type": "code",
   "execution_count": 3,
   "id": "2dc28bef-9015-419f-8381-c9df61640127",
   "metadata": {},
   "outputs": [],
   "source": [
    "import cv2"
   ]
  },
  {
   "cell_type": "code",
   "execution_count": 4,
   "id": "2512d48b-4681-4620-9565-a833069d7239",
   "metadata": {},
   "outputs": [],
   "source": [
    "image = cv2.imread('3.jpg')\n",
    "qrCodeDetector = cv2.QRCodeDetector()"
   ]
  },
  {
   "cell_type": "code",
   "execution_count": 5,
   "id": "829a7d83-480e-402a-b2c3-1fc154acb137",
   "metadata": {},
   "outputs": [],
   "source": [
    "decodedText, points, _ = qrCodeDetector.detectAndDecode(image)"
   ]
  },
  {
   "cell_type": "code",
   "execution_count": 6,
   "id": "084b5707-375f-4389-8ff3-b6f37f30dd53",
   "metadata": {},
   "outputs": [
    {
     "name": "stdout",
     "output_type": "stream",
     "text": [
      "http://doitdummy.com\n"
     ]
    }
   ],
   "source": [
    "if points is not None:\n",
    "    print(decodedText)    \n",
    "else:\n",
    "    print(\"QR code not detected\")"
   ]
  }
 ],
 "metadata": {
  "kernelspec": {
   "display_name": "Python 3 (ipykernel)",
   "language": "python",
   "name": "python3"
  },
  "language_info": {
   "codemirror_mode": {
    "name": "ipython",
    "version": 3
   },
   "file_extension": ".py",
   "mimetype": "text/x-python",
   "name": "python",
   "nbconvert_exporter": "python",
   "pygments_lexer": "ipython3",
   "version": "3.9.0"
  }
 },
 "nbformat": 4,
 "nbformat_minor": 5
}
