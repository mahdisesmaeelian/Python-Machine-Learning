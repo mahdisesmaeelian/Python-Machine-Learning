{
 "cells": [
  {
   "cell_type": "code",
   "execution_count": 37,
   "metadata": {
    "id": "TkmbUYfDUUvM"
   },
   "outputs": [],
   "source": [
    "import tensorflow as tf\n",
    "from tensorflow.keras.layers import Dense\n",
    "import numpy as np\n",
    "import pandas as pd\n",
    "import wandb\n",
    "from wandb.keras import WandbCallback"
   ]
  },
  {
   "cell_type": "code",
   "execution_count": 38,
   "metadata": {
    "colab": {
     "base_uri": "https://localhost:8080/",
     "height": 317,
     "referenced_widgets": [
      "d84027ae43f8409eb65713afa0c5b1de",
      "5982ce41ad4e473f916f59c00ba8ddab",
      "22036b682e574cd2a18dd7347c9b6b2e",
      "0d4e332d3e794c70942c21aa0dac37fe",
      "9d111ce9a2ef4dd9a3fd5cfdace94123",
      "da76be1f6de646e29a38e35401bed6ad",
      "20d00665e3b9471497cbe49371191d0f",
      "f04684032f77469890be6c5e7bca52be"
     ]
    },
    "id": "KSpBUw-LZdWx",
    "outputId": "64ed2a6d-33b5-424e-8054-6fabb940c123"
   },
   "outputs": [
    {
     "data": {
      "text/html": [
       "Finishing last run (ID:3gt4ho61) before initializing another..."
      ],
      "text/plain": [
       "<IPython.core.display.HTML object>"
      ]
     },
     "metadata": {},
     "output_type": "display_data"
    },
    {
     "data": {
      "text/html": [
       "<br/>Waiting for W&B process to finish, PID 570... <strong style=\"color:green\">(success).</strong>"
      ],
      "text/plain": [
       "<IPython.core.display.HTML object>"
      ]
     },
     "metadata": {},
     "output_type": "display_data"
    },
    {
     "data": {
      "application/vnd.jupyter.widget-view+json": {
       "model_id": "d84027ae43f8409eb65713afa0c5b1de",
       "version_major": 2,
       "version_minor": 0
      },
      "text/plain": [
       "VBox(children=(Label(value=' 0.00MB of 0.00MB uploaded (0.00MB deduped)\\r'), FloatProgress(value=1.0, max=1.0)…"
      ]
     },
     "metadata": {},
     "output_type": "display_data"
    },
    {
     "data": {
      "text/html": [
       "<style>\n",
       "    table.wandb td:nth-child(1) { padding: 0 10px; text-align: right }\n",
       "    .wandb-row { display: flex; flex-direction: row; flex-wrap: wrap; width: 100% }\n",
       "    .wandb-col { display: flex; flex-direction: column; flex-basis: 100%; flex: 1; padding: 10px; }\n",
       "    </style>\n",
       "<div class=\"wandb-row\"><div class=\"wandb-col\">\n",
       "<h3>Run history:</h3><br/><table class=\"wandb\"><tr><td>epoch</td><td>▁▁▁▂▂▂▂▃▃▃▃▃▄▄▄▄▅▅▅▅▆▆▆▆▆▇▇▇▇███</td></tr><tr><td>loss</td><td>█▇▆▆▅▄▄▃▃▂▂▂▂▁▁▁▁▁▁▁▁▁▁▁▁▁▁▁▁▁▁▁</td></tr></table><br/></div><div class=\"wandb-col\">\n",
       "<h3>Run summary:</h3><br/><table class=\"wandb\"><tr><td>epoch</td><td>31</td></tr><tr><td>loss</td><td>84.00684</td></tr></table>\n",
       "</div></div>\n",
       "Synced 5 W&B file(s), 1 media file(s), 0 artifact file(s) and 0 other file(s)\n",
       "<br/>Synced <strong style=\"color:#cdcd00\">robust-sunset-3</strong>: <a href=\"https://wandb.ai/mahdis-esmaeelian/Boston/runs/3gt4ho61\" target=\"_blank\">https://wandb.ai/mahdis-esmaeelian/Boston/runs/3gt4ho61</a><br/>\n",
       "Find logs at: <code>./wandb/run-20220225_103203-3gt4ho61/logs</code><br/>\n"
      ],
      "text/plain": [
       "<IPython.core.display.HTML object>"
      ]
     },
     "metadata": {},
     "output_type": "display_data"
    },
    {
     "data": {
      "text/html": [
       "Successfully finished last run (ID:3gt4ho61). Initializing new run:<br/>"
      ],
      "text/plain": [
       "<IPython.core.display.HTML object>"
      ]
     },
     "metadata": {},
     "output_type": "display_data"
    },
    {
     "data": {
      "text/html": [
       "\n",
       "                    Syncing run <strong><a href=\"https://wandb.ai/mahdis-esmaeelian/Boston/runs/3vw852up\" target=\"_blank\">proud-voice-4</a></strong> to <a href=\"https://wandb.ai/mahdis-esmaeelian/Boston\" target=\"_blank\">Weights & Biases</a> (<a href=\"https://docs.wandb.com/integrations/jupyter.html\" target=\"_blank\">docs</a>).<br/>\n",
       "\n",
       "                "
      ],
      "text/plain": [
       "<IPython.core.display.HTML object>"
      ]
     },
     "metadata": {},
     "output_type": "display_data"
    },
    {
     "data": {
      "text/html": [
       "<button onClick=\"this.nextSibling.style.display='block';this.style.display='none';\">Display W&B run</button><iframe src=\"https://wandb.ai/mahdis-esmaeelian/Boston/runs/3vw852up?jupyter=true\" style=\"border:none;width:100%;height:420px;display:none;\"></iframe>"
      ],
      "text/plain": [
       "<wandb.sdk.wandb_run.Run at 0x7fade3b7e110>"
      ]
     },
     "execution_count": 38,
     "metadata": {},
     "output_type": "execute_result"
    }
   ],
   "source": [
    "wandb.init(project=\"Boston\")"
   ]
  },
  {
   "cell_type": "code",
   "execution_count": 39,
   "metadata": {
    "id": "7zLXAm2nbtmV"
   },
   "outputs": [],
   "source": [
    "config = wandb.config\n",
    "config.learning_rate = 0.001"
   ]
  },
  {
   "cell_type": "markdown",
   "metadata": {
    "id": "6mabwI2AVkTs"
   },
   "source": [
    "**Data**"
   ]
  },
  {
   "cell_type": "code",
   "execution_count": 40,
   "metadata": {
    "colab": {
     "base_uri": "https://localhost:8080/"
    },
    "id": "shwakpKwU_9X",
    "outputId": "8ef3f214-96bd-482f-d62f-c38b5f45e895"
   },
   "outputs": [
    {
     "data": {
      "text/plain": [
       "(404, 13)"
      ]
     },
     "execution_count": 40,
     "metadata": {},
     "output_type": "execute_result"
    }
   ],
   "source": [
    "dataset = tf.keras.datasets.boston_housing\n",
    "(X_train , Y_train),(X_test ,Y_test) = dataset.load_data()\n",
    "X_train.shape"
   ]
  },
  {
   "cell_type": "markdown",
   "metadata": {
    "id": "T4zwxQLOVdEJ"
   },
   "source": [
    "**Model**\n"
   ]
  },
  {
   "cell_type": "code",
   "execution_count": 41,
   "metadata": {
    "id": "cGyCN--OVpiv"
   },
   "outputs": [],
   "source": [
    "model = tf.keras.models.Sequential([\n",
    "  Dense(13,input_dim=13, activation='sigmoid'),\n",
    "  Dense(8, activation='sigmoid'),\n",
    "  Dense(4, activation='sigmoid'),\n",
    "  Dense(1, activation='linear')                                \n",
    "])"
   ]
  },
  {
   "cell_type": "code",
   "execution_count": 42,
   "metadata": {
    "id": "UP6d0NMmW9fH"
   },
   "outputs": [],
   "source": [
    "model.compile(optimizer=tf.keras.optimizers.SGD(config.learning_rate),\n",
    "              loss = tf.keras.losses.MeanSquaredError()\n",
    "              )"
   ]
  },
  {
   "cell_type": "code",
   "execution_count": 43,
   "metadata": {
    "colab": {
     "base_uri": "https://localhost:8080/"
    },
    "id": "2D-K7NvFXmoX",
    "outputId": "9498609a-2dbd-43eb-8234-7faf47c16520"
   },
   "outputs": [
    {
     "name": "stdout",
     "output_type": "stream",
     "text": [
      "Model: \"sequential_5\"\n",
      "_________________________________________________________________\n",
      " Layer (type)                Output Shape              Param #   \n",
      "=================================================================\n",
      " dense_20 (Dense)            (None, 13)                182       \n",
      "                                                                 \n",
      " dense_21 (Dense)            (None, 8)                 112       \n",
      "                                                                 \n",
      " dense_22 (Dense)            (None, 4)                 36        \n",
      "                                                                 \n",
      " dense_23 (Dense)            (None, 1)                 5         \n",
      "                                                                 \n",
      "=================================================================\n",
      "Total params: 335\n",
      "Trainable params: 335\n",
      "Non-trainable params: 0\n",
      "_________________________________________________________________\n"
     ]
    }
   ],
   "source": [
    "model.summary()"
   ]
  },
  {
   "cell_type": "markdown",
   "metadata": {
    "id": "u7JvdO1vYlft"
   },
   "source": [
    "**Train**"
   ]
  },
  {
   "cell_type": "code",
   "execution_count": 44,
   "metadata": {
    "colab": {
     "base_uri": "https://localhost:8080/"
    },
    "id": "sgbgBou2Yog7",
    "outputId": "b81a6462-6678-4d35-e6ff-5f273e6dbf07"
   },
   "outputs": [
    {
     "name": "stdout",
     "output_type": "stream",
     "text": [
      "Epoch 1/32\n",
      " 1/13 [=>............................] - ETA: 4s - loss: 595.5541WARNING:tensorflow:Callback method `on_train_batch_end` is slow compared to the batch time (batch time: 0.0014s vs `on_train_batch_end` time: 0.0020s). Check your callbacks.\n",
      "13/13 [==============================] - 0s 3ms/step - loss: 614.4459\n",
      "Epoch 2/32\n",
      "13/13 [==============================] - 0s 2ms/step - loss: 562.6477\n",
      "Epoch 3/32\n",
      "13/13 [==============================] - 0s 2ms/step - loss: 521.3437\n",
      "Epoch 4/32\n",
      "13/13 [==============================] - 0s 2ms/step - loss: 483.6654\n",
      "Epoch 5/32\n",
      "13/13 [==============================] - 0s 2ms/step - loss: 445.6958\n",
      "Epoch 6/32\n",
      "13/13 [==============================] - 0s 2ms/step - loss: 405.4757\n",
      "Epoch 7/32\n",
      "13/13 [==============================] - 0s 2ms/step - loss: 363.4911\n",
      "Epoch 8/32\n",
      "13/13 [==============================] - 0s 2ms/step - loss: 321.2299\n",
      "Epoch 9/32\n",
      "13/13 [==============================] - 0s 2ms/step - loss: 280.4776\n",
      "Epoch 10/32\n",
      "13/13 [==============================] - 0s 2ms/step - loss: 243.1051\n",
      "Epoch 11/32\n",
      "13/13 [==============================] - 0s 2ms/step - loss: 210.3806\n",
      "Epoch 12/32\n",
      "13/13 [==============================] - 0s 2ms/step - loss: 182.9248\n",
      "Epoch 13/32\n",
      "13/13 [==============================] - 0s 2ms/step - loss: 160.6450\n",
      "Epoch 14/32\n",
      "13/13 [==============================] - 0s 4ms/step - loss: 143.0655\n",
      "Epoch 15/32\n",
      "13/13 [==============================] - 0s 2ms/step - loss: 129.4830\n",
      "Epoch 16/32\n",
      "13/13 [==============================] - 0s 2ms/step - loss: 118.9079\n",
      "Epoch 17/32\n",
      "13/13 [==============================] - 0s 2ms/step - loss: 110.9235\n",
      "Epoch 18/32\n",
      "13/13 [==============================] - 0s 2ms/step - loss: 104.7360\n",
      "Epoch 19/32\n",
      "13/13 [==============================] - 0s 2ms/step - loss: 100.0219\n",
      "Epoch 20/32\n",
      "13/13 [==============================] - 0s 2ms/step - loss: 96.3147\n",
      "Epoch 21/32\n",
      "13/13 [==============================] - 0s 2ms/step - loss: 93.5259\n",
      "Epoch 22/32\n",
      "13/13 [==============================] - 0s 2ms/step - loss: 91.3540\n",
      "Epoch 23/32\n",
      "13/13 [==============================] - 0s 2ms/step - loss: 89.7417\n",
      "Epoch 24/32\n",
      "13/13 [==============================] - 0s 2ms/step - loss: 88.4086\n",
      "Epoch 25/32\n",
      "13/13 [==============================] - 0s 2ms/step - loss: 87.4901\n",
      "Epoch 26/32\n",
      "13/13 [==============================] - 0s 2ms/step - loss: 86.7894\n",
      "Epoch 27/32\n",
      "13/13 [==============================] - 0s 2ms/step - loss: 86.2045\n",
      "Epoch 28/32\n",
      "13/13 [==============================] - 0s 2ms/step - loss: 85.7453\n",
      "Epoch 29/32\n",
      "13/13 [==============================] - 0s 3ms/step - loss: 85.4084\n",
      "Epoch 30/32\n",
      "13/13 [==============================] - 0s 2ms/step - loss: 85.1513\n",
      "Epoch 31/32\n",
      "13/13 [==============================] - 0s 2ms/step - loss: 84.9654\n",
      "Epoch 32/32\n",
      "13/13 [==============================] - 0s 2ms/step - loss: 84.7351\n"
     ]
    },
    {
     "data": {
      "text/plain": [
       "<keras.callbacks.History at 0x7fade3d8d710>"
      ]
     },
     "execution_count": 44,
     "metadata": {},
     "output_type": "execute_result"
    }
   ],
   "source": [
    "model.fit(X_train,Y_train, epochs=32, callbacks=[WandbCallback()])"
   ]
  },
  {
   "cell_type": "code",
   "execution_count": 45,
   "metadata": {
    "colab": {
     "base_uri": "https://localhost:8080/"
    },
    "id": "G5P9z8JrdPJ7",
    "outputId": "4540346e-64f9-4aeb-d430-82b0353c8997"
   },
   "outputs": [
    {
     "name": "stdout",
     "output_type": "stream",
     "text": [
      "4/4 [==============================] - 0s 3ms/step - loss: 84.5787\n"
     ]
    },
    {
     "data": {
      "text/plain": [
       "84.57865905761719"
      ]
     },
     "execution_count": 45,
     "metadata": {},
     "output_type": "execute_result"
    }
   ],
   "source": [
    "model.evaluate(X_test, Y_test)"
   ]
  },
  {
   "cell_type": "markdown",
   "metadata": {
    "id": "mmnuu11Xdeg0"
   },
   "source": [
    "**Inference**"
   ]
  },
  {
   "cell_type": "code",
   "execution_count": 46,
   "metadata": {
    "colab": {
     "base_uri": "https://localhost:8080/"
    },
    "id": "frRUUWfPdjHb",
    "outputId": "9afbdbd4-75e6-4c1d-afce-3a0434d1c44d"
   },
   "outputs": [
    {
     "data": {
      "text/plain": [
       "array([[21.747068]], dtype=float32)"
      ]
     },
     "execution_count": 46,
     "metadata": {},
     "output_type": "execute_result"
    }
   ],
   "source": [
    "my_house = np.array([[0.00632, 18.0, 2.31, 0.0, 0.532 ,6.575, 65.2, 4.09, 1.0 ,296.0 , 15.3 , 396.9, 4.98 ]])\n",
    "\n",
    "model.predict(my_house)"
   ]
  }
 ],
 "metadata": {
  "colab": {
   "collapsed_sections": [],
   "name": "Boston.ipynb",
   "provenance": []
  },
  "kernelspec": {
   "display_name": "Python 3 (ipykernel)",
   "language": "python",
   "name": "python3"
  },
  "language_info": {
   "codemirror_mode": {
    "name": "ipython",
    "version": 3
   },
   "file_extension": ".py",
   "mimetype": "text/x-python",
   "name": "python",
   "nbconvert_exporter": "python",
   "pygments_lexer": "ipython3",
   "version": "3.9.10"
  },
  "widgets": {
   "application/vnd.jupyter.widget-state+json": {
    "0d4e332d3e794c70942c21aa0dac37fe": {
     "model_module": "@jupyter-widgets/controls",
     "model_module_version": "1.5.0",
     "model_name": "FloatProgressModel",
     "state": {
      "_dom_classes": [],
      "_model_module": "@jupyter-widgets/controls",
      "_model_module_version": "1.5.0",
      "_model_name": "FloatProgressModel",
      "_view_count": null,
      "_view_module": "@jupyter-widgets/controls",
      "_view_module_version": "1.5.0",
      "_view_name": "ProgressView",
      "bar_style": "",
      "description": "",
      "description_tooltip": null,
      "layout": "IPY_MODEL_f04684032f77469890be6c5e7bca52be",
      "max": 1,
      "min": 0,
      "orientation": "horizontal",
      "style": "IPY_MODEL_20d00665e3b9471497cbe49371191d0f",
      "value": 1
     }
    },
    "20d00665e3b9471497cbe49371191d0f": {
     "model_module": "@jupyter-widgets/controls",
     "model_module_version": "1.5.0",
     "model_name": "ProgressStyleModel",
     "state": {
      "_model_module": "@jupyter-widgets/controls",
      "_model_module_version": "1.5.0",
      "_model_name": "ProgressStyleModel",
      "_view_count": null,
      "_view_module": "@jupyter-widgets/base",
      "_view_module_version": "1.2.0",
      "_view_name": "StyleView",
      "bar_color": null,
      "description_width": ""
     }
    },
    "22036b682e574cd2a18dd7347c9b6b2e": {
     "model_module": "@jupyter-widgets/controls",
     "model_module_version": "1.5.0",
     "model_name": "LabelModel",
     "state": {
      "_dom_classes": [],
      "_model_module": "@jupyter-widgets/controls",
      "_model_module_version": "1.5.0",
      "_model_name": "LabelModel",
      "_view_count": null,
      "_view_module": "@jupyter-widgets/controls",
      "_view_module_version": "1.5.0",
      "_view_name": "LabelView",
      "description": "",
      "description_tooltip": null,
      "layout": "IPY_MODEL_da76be1f6de646e29a38e35401bed6ad",
      "placeholder": "​",
      "style": "IPY_MODEL_9d111ce9a2ef4dd9a3fd5cfdace94123",
      "value": " 0.01MB of 0.01MB uploaded (0.00MB deduped)\r"
     }
    },
    "5982ce41ad4e473f916f59c00ba8ddab": {
     "model_module": "@jupyter-widgets/base",
     "model_module_version": "1.2.0",
     "model_name": "LayoutModel",
     "state": {
      "_model_module": "@jupyter-widgets/base",
      "_model_module_version": "1.2.0",
      "_model_name": "LayoutModel",
      "_view_count": null,
      "_view_module": "@jupyter-widgets/base",
      "_view_module_version": "1.2.0",
      "_view_name": "LayoutView",
      "align_content": null,
      "align_items": null,
      "align_self": null,
      "border": null,
      "bottom": null,
      "display": null,
      "flex": null,
      "flex_flow": null,
      "grid_area": null,
      "grid_auto_columns": null,
      "grid_auto_flow": null,
      "grid_auto_rows": null,
      "grid_column": null,
      "grid_gap": null,
      "grid_row": null,
      "grid_template_areas": null,
      "grid_template_columns": null,
      "grid_template_rows": null,
      "height": null,
      "justify_content": null,
      "justify_items": null,
      "left": null,
      "margin": null,
      "max_height": null,
      "max_width": null,
      "min_height": null,
      "min_width": null,
      "object_fit": null,
      "object_position": null,
      "order": null,
      "overflow": null,
      "overflow_x": null,
      "overflow_y": null,
      "padding": null,
      "right": null,
      "top": null,
      "visibility": null,
      "width": null
     }
    },
    "9d111ce9a2ef4dd9a3fd5cfdace94123": {
     "model_module": "@jupyter-widgets/controls",
     "model_module_version": "1.5.0",
     "model_name": "DescriptionStyleModel",
     "state": {
      "_model_module": "@jupyter-widgets/controls",
      "_model_module_version": "1.5.0",
      "_model_name": "DescriptionStyleModel",
      "_view_count": null,
      "_view_module": "@jupyter-widgets/base",
      "_view_module_version": "1.2.0",
      "_view_name": "StyleView",
      "description_width": ""
     }
    },
    "d84027ae43f8409eb65713afa0c5b1de": {
     "model_module": "@jupyter-widgets/controls",
     "model_module_version": "1.5.0",
     "model_name": "VBoxModel",
     "state": {
      "_dom_classes": [],
      "_model_module": "@jupyter-widgets/controls",
      "_model_module_version": "1.5.0",
      "_model_name": "VBoxModel",
      "_view_count": null,
      "_view_module": "@jupyter-widgets/controls",
      "_view_module_version": "1.5.0",
      "_view_name": "VBoxView",
      "box_style": "",
      "children": [
       "IPY_MODEL_22036b682e574cd2a18dd7347c9b6b2e",
       "IPY_MODEL_0d4e332d3e794c70942c21aa0dac37fe"
      ],
      "layout": "IPY_MODEL_5982ce41ad4e473f916f59c00ba8ddab"
     }
    },
    "da76be1f6de646e29a38e35401bed6ad": {
     "model_module": "@jupyter-widgets/base",
     "model_module_version": "1.2.0",
     "model_name": "LayoutModel",
     "state": {
      "_model_module": "@jupyter-widgets/base",
      "_model_module_version": "1.2.0",
      "_model_name": "LayoutModel",
      "_view_count": null,
      "_view_module": "@jupyter-widgets/base",
      "_view_module_version": "1.2.0",
      "_view_name": "LayoutView",
      "align_content": null,
      "align_items": null,
      "align_self": null,
      "border": null,
      "bottom": null,
      "display": null,
      "flex": null,
      "flex_flow": null,
      "grid_area": null,
      "grid_auto_columns": null,
      "grid_auto_flow": null,
      "grid_auto_rows": null,
      "grid_column": null,
      "grid_gap": null,
      "grid_row": null,
      "grid_template_areas": null,
      "grid_template_columns": null,
      "grid_template_rows": null,
      "height": null,
      "justify_content": null,
      "justify_items": null,
      "left": null,
      "margin": null,
      "max_height": null,
      "max_width": null,
      "min_height": null,
      "min_width": null,
      "object_fit": null,
      "object_position": null,
      "order": null,
      "overflow": null,
      "overflow_x": null,
      "overflow_y": null,
      "padding": null,
      "right": null,
      "top": null,
      "visibility": null,
      "width": null
     }
    },
    "f04684032f77469890be6c5e7bca52be": {
     "model_module": "@jupyter-widgets/base",
     "model_module_version": "1.2.0",
     "model_name": "LayoutModel",
     "state": {
      "_model_module": "@jupyter-widgets/base",
      "_model_module_version": "1.2.0",
      "_model_name": "LayoutModel",
      "_view_count": null,
      "_view_module": "@jupyter-widgets/base",
      "_view_module_version": "1.2.0",
      "_view_name": "LayoutView",
      "align_content": null,
      "align_items": null,
      "align_self": null,
      "border": null,
      "bottom": null,
      "display": null,
      "flex": null,
      "flex_flow": null,
      "grid_area": null,
      "grid_auto_columns": null,
      "grid_auto_flow": null,
      "grid_auto_rows": null,
      "grid_column": null,
      "grid_gap": null,
      "grid_row": null,
      "grid_template_areas": null,
      "grid_template_columns": null,
      "grid_template_rows": null,
      "height": null,
      "justify_content": null,
      "justify_items": null,
      "left": null,
      "margin": null,
      "max_height": null,
      "max_width": null,
      "min_height": null,
      "min_width": null,
      "object_fit": null,
      "object_position": null,
      "order": null,
      "overflow": null,
      "overflow_x": null,
      "overflow_y": null,
      "padding": null,
      "right": null,
      "top": null,
      "visibility": null,
      "width": null
     }
    }
   }
  }
 },
 "nbformat": 4,
 "nbformat_minor": 4
}
