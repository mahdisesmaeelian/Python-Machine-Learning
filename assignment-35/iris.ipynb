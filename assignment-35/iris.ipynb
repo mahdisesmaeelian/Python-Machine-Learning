{
 "cells": [
  {
   "cell_type": "code",
   "execution_count": 2,
   "id": "db511d62-6071-49ae-8d47-9a8d24aa330b",
   "metadata": {},
   "outputs": [],
   "source": [
    "from sklearn.datasets import load_iris\n",
    "import numpy as np\n",
    "from sklearn.model_selection import train_test_split\n",
    "import matplotlib.pyplot as plt"
   ]
  },
  {
   "cell_type": "code",
   "execution_count": 3,
   "id": "eab0d1a0-7d0c-4d63-90ee-8d57c3c4da22",
   "metadata": {},
   "outputs": [],
   "source": [
    "data = load_iris()\n",
    "\n",
    "X = data.data[:, :2]\n",
    "Y = data.target"
   ]
  },
  {
   "cell_type": "code",
   "execution_count": 4,
   "id": "20b44760-ba7b-4aff-9e82-8b3047bd01f6",
   "metadata": {},
   "outputs": [],
   "source": [
    "X_train , X_test , y_train , y_test = train_test_split(X,Y,test_size=0.2,random_state=4)"
   ]
  },
  {
   "cell_type": "code",
   "execution_count": 5,
   "id": "11e6dd8a-7c36-407c-93f5-0fe9568ca423",
   "metadata": {},
   "outputs": [],
   "source": [
    "from knn import KNearestNeighbors"
   ]
  },
  {
   "cell_type": "code",
   "execution_count": 8,
   "id": "9cb605fd-3427-4761-b217-cf2ee1bdfb8c",
   "metadata": {},
   "outputs": [
    {
     "name": "stdout",
     "output_type": "stream",
     "text": [
      "0.8666666666666667\n",
      "0.8666666666666667\n",
      "0.8666666666666667\n",
      "0.9\n",
      "0.8666666666666667\n",
      "0.8333333333333334\n",
      "0.8333333333333334\n",
      "0.8666666666666667\n"
     ]
    },
    {
     "data": {
      "image/png": "[encoded data removed]",
      "text/plain": [
       "<Figure size 432x288 with 1 Axes>"
      ]
     },
     "metadata": {
      "needs_background": "light"
     },
     "output_type": "display_data"
    }
   ],
   "source": [
    "K_list = [1,3,5,7,9,11,13,15]\n",
    "result = []\n",
    "\n",
    "for i in K_list:\n",
    "  my_knn = KNearestNeighbors(i)\n",
    "  my_knn.fit(X_train,y_train)\n",
    "  accuracy =my_knn.evaluate(X_test,y_test)\n",
    "  print(accuracy)\n",
    "  result.append(accuracy)\n",
    "  \n",
    "\n",
    "plt.bar(K_list,result)\n",
    "plt.xlabel(\"K range\")\n",
    "plt.show()"
   ]
  },
  {
   "cell_type": "code",
   "execution_count": null,
   "id": "2b3319cd-aea4-44e2-9ddd-a866136c9d26",
   "metadata": {},
   "outputs": [],
   "source": []
  }
 ],
 "metadata": {
  "kernelspec": {
   "display_name": "Python 3 (ipykernel)",
   "language": "python",
   "name": "python3"
  },
  "language_info": {
   "codemirror_mode": {
    "name": "ipython",
    "version": 3
   },
   "file_extension": ".py",
   "mimetype": "text/x-python",
   "name": "python",
   "nbconvert_exporter": "python",
   "pygments_lexer": "ipython3",
   "version": "3.9.0"
  }
 },
 "nbformat": 4,
 "nbformat_minor": 5
}
